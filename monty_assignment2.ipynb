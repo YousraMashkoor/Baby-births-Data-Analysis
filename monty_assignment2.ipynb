{
  "nbformat": 4,
  "nbformat_minor": 0,
  "metadata": {
    "colab": {
      "name": "monty_assignment2.ipynb",
      "provenance": [],
      "collapsed_sections": [],
      "toc_visible": true,
      "authorship_tag": "ABX9TyOoBK4x4YawhpuGhL2BUrQy",
      "include_colab_link": true
    },
    "kernelspec": {
      "name": "python3",
      "display_name": "Python 3"
    },
    "accelerator": "GPU"
  },
  "cells": [
    {
      "cell_type": "markdown",
      "metadata": {
        "id": "view-in-github",
        "colab_type": "text"
      },
      "source": [
        "<a href=\"https://colab.research.google.com/github/YousraMashkoor/Baby-births-Data-Analysis/blob/master/monty_assignment2.ipynb\" target=\"_parent\"><img src=\"https://colab.research.google.com/assets/colab-badge.svg\" alt=\"Open In Colab\"/></a>"
      ]
    },
    {
      "cell_type": "code",
      "metadata": {
        "id": "4w38Sq5edwUh",
        "colab_type": "code",
        "colab": {}
      },
      "source": [
        "import pandas as pd\n",
        "import matplotlib.pyplot as plt"
      ],
      "execution_count": null,
      "outputs": []
    },
    {
      "cell_type": "code",
      "metadata": {
        "id": "Fp_6FE8PfMLR",
        "colab_type": "code",
        "colab": {}
      },
      "source": [
        "!unzip \"csvFiles.zip\" "
      ],
      "execution_count": null,
      "outputs": []
    },
    {
      "cell_type": "markdown",
      "metadata": {
        "id": "bYw7ccxnteF0",
        "colab_type": "text"
      },
      "source": [
        "## Full Data set"
      ]
    },
    {
      "cell_type": "code",
      "metadata": {
        "id": "gXWhEl53ciYq",
        "colab_type": "code",
        "colab": {}
      },
      "source": [
        "\n",
        "##creating list with all the file names\n",
        "fnames=[\"csvFiles/yob{}.csv\".format(i) for i in range(1991,2011)]\n",
        "\n",
        "##initializing an empty dataframe\n",
        "full_data=pd.DataFrame()\n",
        "##looping to read files and concatinate into one big dataframe\n",
        "for fname in fnames:\n",
        "  df = pd.read_csv(fname)\n",
        "  # print(\"size of {} is {}\".format(fname, df.size))\n",
        "  full_data=full_data.append(df)\n",
        "\n",
        "full_data.reset_index(drop=True,inplace=True)\n",
        "full_data.to_csv('full_data.csv')\n",
        "\n"
      ],
      "execution_count": null,
      "outputs": []
    },
    {
      "cell_type": "markdown",
      "metadata": {
        "id": "N_GZW2_6GBZO",
        "colab_type": "text"
      },
      "source": [
        "## TASK 01"
      ]
    },
    {
      "cell_type": "code",
      "metadata": {
        "id": "x7g36bK2GAfo",
        "colab_type": "code",
        "colab": {
          "base_uri": "https://localhost:8080/",
          "height": 72
        },
        "outputId": "1df1f44b-970d-4d4c-beb3-271181573c17"
      },
      "source": [
        "#total observations\n",
        "total_obs=full_data.shape[0]\n",
        "\n",
        "## total unique names\n",
        "total_unames=full_data['name'].nunique()\n",
        "\n",
        "## total births\n",
        "total_births=full_data['births'].sum()\n",
        "\n",
        "##printing observation\n",
        "\n",
        "print(\" total observation: {} \\n total unique names: {} \\n total births: {}\".format(total_obs,total_unames,total_births))"
      ],
      "execution_count": null,
      "outputs": [
        {
          "output_type": "stream",
          "text": [
            " total observation: 596931 \n",
            " total unique names: 66648 \n",
            " total births: 75509584\n"
          ],
          "name": "stdout"
        }
      ]
    },
    {
      "cell_type": "markdown",
      "metadata": {
        "id": "GsjKZdBgFuh5",
        "colab_type": "text"
      },
      "source": [
        "### Table01"
      ]
    },
    {
      "cell_type": "code",
      "metadata": {
        "id": "eNhrDlOsFklO",
        "colab_type": "code",
        "colab": {
          "base_uri": "https://localhost:8080/",
          "height": 407
        },
        "outputId": "970dcee8-3f8e-43b8-fbec-700a2852a88c"
      },
      "source": [
        "pd.set_option('display.max_rows', 100)\n",
        "\n",
        "##mean birth per unique name\n",
        "x=full_data.groupby(\"name\")['births'].mean()\n",
        "\n",
        "## total births\n",
        "y=full_data.groupby(\"name\")['births'].sum()\n",
        "\n",
        "table1=pd.DataFrame({'name':x.index, 'total_births': y.values, 'avg_births': x.values})\n",
        "\n",
        "table1"
      ],
      "execution_count": null,
      "outputs": [
        {
          "output_type": "execute_result",
          "data": {
            "text/html": [
              "<div>\n",
              "<style scoped>\n",
              "    .dataframe tbody tr th:only-of-type {\n",
              "        vertical-align: middle;\n",
              "    }\n",
              "\n",
              "    .dataframe tbody tr th {\n",
              "        vertical-align: top;\n",
              "    }\n",
              "\n",
              "    .dataframe thead th {\n",
              "        text-align: right;\n",
              "    }\n",
              "</style>\n",
              "<table border=\"1\" class=\"dataframe\">\n",
              "  <thead>\n",
              "    <tr style=\"text-align: right;\">\n",
              "      <th></th>\n",
              "      <th>name</th>\n",
              "      <th>total_births</th>\n",
              "      <th>avg_births</th>\n",
              "    </tr>\n",
              "  </thead>\n",
              "  <tbody>\n",
              "    <tr>\n",
              "      <th>0</th>\n",
              "      <td>Aaban</td>\n",
              "      <td>20</td>\n",
              "      <td>6.666667</td>\n",
              "    </tr>\n",
              "    <tr>\n",
              "      <th>1</th>\n",
              "      <td>Aabid</td>\n",
              "      <td>5</td>\n",
              "      <td>5.000000</td>\n",
              "    </tr>\n",
              "    <tr>\n",
              "      <th>2</th>\n",
              "      <td>Aabriella</td>\n",
              "      <td>5</td>\n",
              "      <td>5.000000</td>\n",
              "    </tr>\n",
              "    <tr>\n",
              "      <th>3</th>\n",
              "      <td>Aadam</td>\n",
              "      <td>123</td>\n",
              "      <td>7.235294</td>\n",
              "    </tr>\n",
              "    <tr>\n",
              "      <th>4</th>\n",
              "      <td>Aadan</td>\n",
              "      <td>69</td>\n",
              "      <td>13.800000</td>\n",
              "    </tr>\n",
              "    <tr>\n",
              "      <th>...</th>\n",
              "      <td>...</td>\n",
              "      <td>...</td>\n",
              "      <td>...</td>\n",
              "    </tr>\n",
              "    <tr>\n",
              "      <th>66643</th>\n",
              "      <td>Zyshonne</td>\n",
              "      <td>101</td>\n",
              "      <td>16.833333</td>\n",
              "    </tr>\n",
              "    <tr>\n",
              "      <th>66644</th>\n",
              "      <td>Zytavious</td>\n",
              "      <td>43</td>\n",
              "      <td>6.142857</td>\n",
              "    </tr>\n",
              "    <tr>\n",
              "      <th>66645</th>\n",
              "      <td>Zyvion</td>\n",
              "      <td>5</td>\n",
              "      <td>5.000000</td>\n",
              "    </tr>\n",
              "    <tr>\n",
              "      <th>66646</th>\n",
              "      <td>Zyyanna</td>\n",
              "      <td>6</td>\n",
              "      <td>6.000000</td>\n",
              "    </tr>\n",
              "    <tr>\n",
              "      <th>66647</th>\n",
              "      <td>Zzyzx</td>\n",
              "      <td>5</td>\n",
              "      <td>5.000000</td>\n",
              "    </tr>\n",
              "  </tbody>\n",
              "</table>\n",
              "<p>66648 rows × 3 columns</p>\n",
              "</div>"
            ],
            "text/plain": [
              "            name  total_births  avg_births\n",
              "0          Aaban            20    6.666667\n",
              "1          Aabid             5    5.000000\n",
              "2      Aabriella             5    5.000000\n",
              "3          Aadam           123    7.235294\n",
              "4          Aadan            69   13.800000\n",
              "...          ...           ...         ...\n",
              "66643   Zyshonne           101   16.833333\n",
              "66644  Zytavious            43    6.142857\n",
              "66645     Zyvion             5    5.000000\n",
              "66646    Zyyanna             6    6.000000\n",
              "66647      Zzyzx             5    5.000000\n",
              "\n",
              "[66648 rows x 3 columns]"
            ]
          },
          "metadata": {
            "tags": []
          },
          "execution_count": 19
        }
      ]
    },
    {
      "cell_type": "markdown",
      "metadata": {
        "id": "jETwNabwUdFl",
        "colab_type": "text"
      },
      "source": [
        "## TASK 02"
      ]
    },
    {
      "cell_type": "code",
      "metadata": {
        "id": "TPKCF5ZMLdYt",
        "colab_type": "code",
        "colab": {
          "base_uri": "https://localhost:8080/",
          "height": 297
        },
        "outputId": "d02d0daa-fe07-46e7-892a-f90c4576e17e"
      },
      "source": [
        "full_data.pivot_table( 'births', ['year'], 'sex').plot()"
      ],
      "execution_count": null,
      "outputs": [
        {
          "output_type": "execute_result",
          "data": {
            "text/plain": [
              "<matplotlib.axes._subplots.AxesSubplot at 0x7f3769f3c6d8>"
            ]
          },
          "metadata": {
            "tags": []
          },
          "execution_count": 24
        },
        {
          "output_type": "display_data",
          "data": {
            "image/png": "[encoded data removed]",
            "text/plain": [
              "<Figure size 432x288 with 1 Axes>"
            ]
          },
          "metadata": {
            "tags": [],
            "needs_background": "light"
          }
        }
      ]
    },
    {
      "cell_type": "markdown",
      "metadata": {
        "id": "Cw5Q_FcTfNfa",
        "colab_type": "text"
      },
      "source": [
        "# TASK 03"
      ]
    },
    {
      "cell_type": "code",
      "metadata": {
        "id": "AgfQ1tHgSMEf",
        "colab_type": "code",
        "colab": {}
      },
      "source": [
        "subset=full_data[full_data.year == 2000]"
      ],
      "execution_count": null,
      "outputs": []
    },
    {
      "cell_type": "code",
      "metadata": {
        "id": "G_4GRpmIbP72",
        "colab_type": "code",
        "colab": {}
      },
      "source": [
        "group=subset.pivot_table( 'births', ['name'], 'sex')\n",
        "\n",
        "#subsetting male and female from pivot table above\n",
        "subset_male=group['M'].dropna()\n",
        "subset_female=group['F'].dropna()"
      ],
      "execution_count": null,
      "outputs": []
    },
    {
      "cell_type": "code",
      "metadata": {
        "id": "Km9EW1VZMgjJ",
        "colab_type": "code",
        "colab": {}
      },
      "source": [
        "## Female top 3 and bottom 3 subset\n",
        "table_f=subset_female.head(3)\n",
        "table_f=table_f.append(subset_female.tail(3))\n",
        "\n",
        "## Male top 3 and bottom 3 subset\n",
        "table_m=subset_male.head(3)\n",
        "table_m=table_m.append(subset_male.tail(3))"
      ],
      "execution_count": null,
      "outputs": []
    },
    {
      "cell_type": "code",
      "metadata": {
        "id": "yzwaM0bwQjPk",
        "colab_type": "code",
        "colab": {
          "base_uri": "https://localhost:8080/",
          "height": 408
        },
        "outputId": "bac42b10-0f27-43fd-e985-c0258e41604d"
      },
      "source": [
        "#Apeending male dataset in table 2\n",
        "table2=pd.DataFrame({'name':table_m.index, 'births':table_m.values ,'sex': 'M'})\n",
        "#Apeending female dataset in table 2\n",
        "table2=table2.append(pd.DataFrame({'name':table_f.index, 'births':table_f.values ,'sex': 'F'}))\n",
        "\n",
        "## reassigning index\n",
        "table2.reset_index(drop=True,inplace=True)\n",
        "\n",
        "table2"
      ],
      "execution_count": null,
      "outputs": [
        {
          "output_type": "execute_result",
          "data": {
            "text/html": [
              "<div>\n",
              "<style scoped>\n",
              "    .dataframe tbody tr th:only-of-type {\n",
              "        vertical-align: middle;\n",
              "    }\n",
              "\n",
              "    .dataframe tbody tr th {\n",
              "        vertical-align: top;\n",
              "    }\n",
              "\n",
              "    .dataframe thead th {\n",
              "        text-align: right;\n",
              "    }\n",
              "</style>\n",
              "<table border=\"1\" class=\"dataframe\">\n",
              "  <thead>\n",
              "    <tr style=\"text-align: right;\">\n",
              "      <th></th>\n",
              "      <th>name</th>\n",
              "      <th>births</th>\n",
              "      <th>sex</th>\n",
              "    </tr>\n",
              "  </thead>\n",
              "  <tbody>\n",
              "    <tr>\n",
              "      <th>0</th>\n",
              "      <td>Aadam</td>\n",
              "      <td>6.0</td>\n",
              "      <td>M</td>\n",
              "    </tr>\n",
              "    <tr>\n",
              "      <th>1</th>\n",
              "      <td>Aadarsh</td>\n",
              "      <td>5.0</td>\n",
              "      <td>M</td>\n",
              "    </tr>\n",
              "    <tr>\n",
              "      <th>2</th>\n",
              "      <td>Aadil</td>\n",
              "      <td>9.0</td>\n",
              "      <td>M</td>\n",
              "    </tr>\n",
              "    <tr>\n",
              "      <th>3</th>\n",
              "      <td>Zyshaun</td>\n",
              "      <td>6.0</td>\n",
              "      <td>M</td>\n",
              "    </tr>\n",
              "    <tr>\n",
              "      <th>4</th>\n",
              "      <td>Zyshawn</td>\n",
              "      <td>10.0</td>\n",
              "      <td>M</td>\n",
              "    </tr>\n",
              "    <tr>\n",
              "      <th>5</th>\n",
              "      <td>Zyshonne</td>\n",
              "      <td>17.0</td>\n",
              "      <td>M</td>\n",
              "    </tr>\n",
              "    <tr>\n",
              "      <th>6</th>\n",
              "      <td>Aailyah</td>\n",
              "      <td>9.0</td>\n",
              "      <td>F</td>\n",
              "    </tr>\n",
              "    <tr>\n",
              "      <th>7</th>\n",
              "      <td>Aaisha</td>\n",
              "      <td>6.0</td>\n",
              "      <td>F</td>\n",
              "    </tr>\n",
              "    <tr>\n",
              "      <th>8</th>\n",
              "      <td>Aakilah</td>\n",
              "      <td>7.0</td>\n",
              "      <td>F</td>\n",
              "    </tr>\n",
              "    <tr>\n",
              "      <th>9</th>\n",
              "      <td>Zyonna</td>\n",
              "      <td>5.0</td>\n",
              "      <td>F</td>\n",
              "    </tr>\n",
              "    <tr>\n",
              "      <th>10</th>\n",
              "      <td>Zyra</td>\n",
              "      <td>5.0</td>\n",
              "      <td>F</td>\n",
              "    </tr>\n",
              "    <tr>\n",
              "      <th>11</th>\n",
              "      <td>Zyria</td>\n",
              "      <td>21.0</td>\n",
              "      <td>F</td>\n",
              "    </tr>\n",
              "  </tbody>\n",
              "</table>\n",
              "</div>"
            ],
            "text/plain": [
              "        name  births sex\n",
              "0      Aadam     6.0   M\n",
              "1    Aadarsh     5.0   M\n",
              "2      Aadil     9.0   M\n",
              "3    Zyshaun     6.0   M\n",
              "4    Zyshawn    10.0   M\n",
              "5   Zyshonne    17.0   M\n",
              "6    Aailyah     9.0   F\n",
              "7     Aaisha     6.0   F\n",
              "8    Aakilah     7.0   F\n",
              "9     Zyonna     5.0   F\n",
              "10      Zyra     5.0   F\n",
              "11     Zyria    21.0   F"
            ]
          },
          "metadata": {
            "tags": []
          },
          "execution_count": 43
        }
      ]
    },
    {
      "cell_type": "markdown",
      "metadata": {
        "id": "Hf35Hy4jQSR6",
        "colab_type": "text"
      },
      "source": [
        "## TASK 04"
      ]
    },
    {
      "cell_type": "markdown",
      "metadata": {
        "id": "51-kjkWtcRw9",
        "colab_type": "text"
      },
      "source": [
        "## Getting top names"
      ]
    },
    {
      "cell_type": "code",
      "metadata": {
        "id": "FL8NU_b5VPOl",
        "colab_type": "code",
        "colab": {}
      },
      "source": [
        "#filter based on gender with highest births\n",
        "\n",
        "highest_births=full_data.groupby(['sex'])['births'].max()"
      ],
      "execution_count": null,
      "outputs": []
    },
    {
      "cell_type": "code",
      "metadata": {
        "id": "4KdobD4AXyBH",
        "colab_type": "code",
        "colab": {}
      },
      "source": [
        "top_names=pd.DataFrame()\n",
        "for x in highest_births:\n",
        "  top_names=top_names.append((full_data.loc[full_data['births'] == x]))"
      ],
      "execution_count": null,
      "outputs": []
    },
    {
      "cell_type": "code",
      "metadata": {
        "id": "tl_KaKEvK7-j",
        "colab_type": "code",
        "colab": {
          "base_uri": "https://localhost:8080/",
          "height": 68
        },
        "outputId": "574315c8-9c39-495f-beeb-de081ed03f37"
      },
      "source": [
        "print(top_names)"
      ],
      "execution_count": null,
      "outputs": [
        {
          "output_type": "stream",
          "text": [
            "          name sex  births  year\n",
            "0       Ashley   F   43482  1991\n",
            "15461  Michael   M   60780  1991\n"
          ],
          "name": "stdout"
        }
      ]
    },
    {
      "cell_type": "markdown",
      "metadata": {
        "id": "4Q0fkGbyKdo5",
        "colab_type": "text"
      },
      "source": [
        "# Filtering data with top 2 names of male and female each"
      ]
    },
    {
      "cell_type": "code",
      "metadata": {
        "id": "MoWbn08-dR3Z",
        "colab_type": "code",
        "colab": {
          "base_uri": "https://localhost:8080/",
          "height": 419
        },
        "outputId": "1b2d77df-b772-46b0-86bd-b72ded955b85"
      },
      "source": [
        " new= full_data[full_data.name == 'Ashley']\n",
        " new=new.append(full_data[full_data.name == 'Michael'])\n",
        " new"
      ],
      "execution_count": null,
      "outputs": [
        {
          "output_type": "execute_result",
          "data": {
            "text/html": [
              "<div>\n",
              "<style scoped>\n",
              "    .dataframe tbody tr th:only-of-type {\n",
              "        vertical-align: middle;\n",
              "    }\n",
              "\n",
              "    .dataframe tbody tr th {\n",
              "        vertical-align: top;\n",
              "    }\n",
              "\n",
              "    .dataframe thead th {\n",
              "        text-align: right;\n",
              "    }\n",
              "</style>\n",
              "<table border=\"1\" class=\"dataframe\">\n",
              "  <thead>\n",
              "    <tr style=\"text-align: right;\">\n",
              "      <th></th>\n",
              "      <th>name</th>\n",
              "      <th>sex</th>\n",
              "      <th>births</th>\n",
              "      <th>year</th>\n",
              "    </tr>\n",
              "  </thead>\n",
              "  <tbody>\n",
              "    <tr>\n",
              "      <th>0</th>\n",
              "      <td>Ashley</td>\n",
              "      <td>F</td>\n",
              "      <td>43482</td>\n",
              "      <td>1991</td>\n",
              "    </tr>\n",
              "    <tr>\n",
              "      <th>16222</th>\n",
              "      <td>Ashley</td>\n",
              "      <td>M</td>\n",
              "      <td>180</td>\n",
              "      <td>1991</td>\n",
              "    </tr>\n",
              "    <tr>\n",
              "      <th>25102</th>\n",
              "      <td>Ashley</td>\n",
              "      <td>F</td>\n",
              "      <td>38449</td>\n",
              "      <td>1992</td>\n",
              "    </tr>\n",
              "    <tr>\n",
              "      <th>41511</th>\n",
              "      <td>Ashley</td>\n",
              "      <td>M</td>\n",
              "      <td>168</td>\n",
              "      <td>1992</td>\n",
              "    </tr>\n",
              "    <tr>\n",
              "      <th>50512</th>\n",
              "      <td>Ashley</td>\n",
              "      <td>F</td>\n",
              "      <td>34844</td>\n",
              "      <td>1993</td>\n",
              "    </tr>\n",
              "    <tr>\n",
              "      <th>...</th>\n",
              "      <td>...</td>\n",
              "      <td>...</td>\n",
              "      <td>...</td>\n",
              "      <td>...</td>\n",
              "    </tr>\n",
              "    <tr>\n",
              "      <th>513902</th>\n",
              "      <td>Michael</td>\n",
              "      <td>M</td>\n",
              "      <td>20524</td>\n",
              "      <td>2008</td>\n",
              "    </tr>\n",
              "    <tr>\n",
              "      <th>532324</th>\n",
              "      <td>Michael</td>\n",
              "      <td>F</td>\n",
              "      <td>41</td>\n",
              "      <td>2009</td>\n",
              "    </tr>\n",
              "    <tr>\n",
              "      <th>548616</th>\n",
              "      <td>Michael</td>\n",
              "      <td>M</td>\n",
              "      <td>18822</td>\n",
              "      <td>2009</td>\n",
              "    </tr>\n",
              "    <tr>\n",
              "      <th>567140</th>\n",
              "      <td>Michael</td>\n",
              "      <td>F</td>\n",
              "      <td>37</td>\n",
              "      <td>2010</td>\n",
              "    </tr>\n",
              "    <tr>\n",
              "      <th>582793</th>\n",
              "      <td>Michael</td>\n",
              "      <td>M</td>\n",
              "      <td>17133</td>\n",
              "      <td>2010</td>\n",
              "    </tr>\n",
              "  </tbody>\n",
              "</table>\n",
              "<p>80 rows × 4 columns</p>\n",
              "</div>"
            ],
            "text/plain": [
              "           name sex  births  year\n",
              "0        Ashley   F   43482  1991\n",
              "16222    Ashley   M     180  1991\n",
              "25102    Ashley   F   38449  1992\n",
              "41511    Ashley   M     168  1992\n",
              "50512    Ashley   F   34844  1993\n",
              "...         ...  ..     ...   ...\n",
              "513902  Michael   M   20524  2008\n",
              "532324  Michael   F      41  2009\n",
              "548616  Michael   M   18822  2009\n",
              "567140  Michael   F      37  2010\n",
              "582793  Michael   M   17133  2010\n",
              "\n",
              "[80 rows x 4 columns]"
            ]
          },
          "metadata": {
            "tags": []
          },
          "execution_count": 104
        }
      ]
    },
    {
      "cell_type": "markdown",
      "metadata": {
        "id": "1hMaWQLgdVSR",
        "colab_type": "text"
      },
      "source": [
        "# Visualizing trend"
      ]
    },
    {
      "cell_type": "code",
      "metadata": {
        "id": "xTfoBpet519y",
        "colab_type": "code",
        "colab": {
          "base_uri": "https://localhost:8080/",
          "height": 296
        },
        "outputId": "f150d0c3-3e9f-4016-b9ee-e6addc0e1330"
      },
      "source": [
        "new.pivot_table( 'births', ['year'], 'name').plot()"
      ],
      "execution_count": null,
      "outputs": [
        {
          "output_type": "execute_result",
          "data": {
            "text/plain": [
              "<matplotlib.axes._subplots.AxesSubplot at 0x7f45903d82b0>"
            ]
          },
          "metadata": {
            "tags": []
          },
          "execution_count": 105
        },
        {
          "output_type": "display_data",
          "data": {
            "image/png": "[encoded data removed]",
            "text/plain": [
              "<Figure size 432x288 with 1 Axes>"
            ]
          },
          "metadata": {
            "tags": [],
            "needs_background": "light"
          }
        }
      ]
    }
  ]
}